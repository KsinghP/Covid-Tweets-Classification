{
 "cells": [
  {
   "cell_type": "code",
   "execution_count": 8,
   "metadata": {},
   "outputs": [],
   "source": [
    "import re\n",
    "import pandas as pd\n",
    "import numpy as np\n",
    "import csv\n",
    "import string\n",
    "import pickle\n",
    "import seaborn as sns\n",
    "import matplotlib.pyplot as plt\n",
    "from termcolor import colored\n",
    "plt.style.use('ggplot')\n",
    "\n",
    "from sklearn import naive_bayes\n",
    "from sklearn.svm import LinearSVC\n",
    "from sklearn.metrics import confusion_matrix\n",
    "from sklearn.metrics import plot_confusion_matrix\n",
    "from sklearn.naive_bayes import MultinomialNB\n",
    "from sklearn.linear_model import LogisticRegression\n",
    "from sklearn.ensemble import RandomForestClassifier\n",
    "from sklearn.metrics import precision_recall_fscore_support as score\n",
    "from sklearn.metrics import accuracy_score\n",
    "import sklearn.metrics as metrics\n",
    "from sklearn.model_selection import train_test_split\n",
    "from sklearn.feature_extraction.text import CountVectorizer\n",
    "from sklearn.feature_extraction.text import TfidfVectorizer\n",
    "from sklearn.feature_extraction.text import TfidfTransformer\n",
    "count_vect = CountVectorizer(ngram_range=(1,2))\n",
    "tfidf_vect = TfidfVectorizer(ngram_range=(1,2))\n",
    "tfidf_transformer = TfidfTransformer()"
   ]
  },
  {
   "cell_type": "markdown",
   "metadata": {},
   "source": [
    "### 1. Read in train and test data from another module"
   ]
  },
  {
   "cell_type": "code",
   "execution_count": 9,
   "metadata": {},
   "outputs": [],
   "source": [
    "def import_train_test_data():\n",
    "    import Import_process_split_tweets\n",
    "    x_train, x_test, y_train, y_test = Import_process_split_tweets.split_tweets()\n",
    "    return (x_train, x_test, y_train, y_test)"
   ]
  },
  {
   "cell_type": "markdown",
   "metadata": {},
   "source": [
    "### 2. Vectorize tweets"
   ]
  },
  {
   "cell_type": "code",
   "execution_count": 10,
   "metadata": {},
   "outputs": [],
   "source": [
    "def save_count_vectorizer():\n",
    "    count_vectorizer_fit = count_vect.fit(import_train_test_data()[0])\n",
    "\n",
    "    saved_count_vectorizer = 'count_vectorizer.pickle'\n",
    "    pickle.dump(count_vectorizer_fit, open(saved_count_vectorizer, 'wb'))\n",
    "    loaded_count_vectorizer = pickle.load(open(saved_count_vectorizer, 'rb'))\n",
    "    \n",
    "    return loaded_count_vectorizer"
   ]
  },
  {
   "cell_type": "code",
   "execution_count": 11,
   "metadata": {},
   "outputs": [],
   "source": [
    "def save_tfidf_vectorizer():\n",
    "    tfidf_vect_fit = tfidf_vect.fit(import_train_test_data()[0])\n",
    "    \n",
    "    saved_tfidf_vectorizer = 'tfidf_vectorizer.pickle'\n",
    "    pickle.dump(tfidf_vect_fit, open(saved_tfidf_vectorizer, 'wb'))\n",
    "    loaded_tfidf_vectorizer = pickle.load(open(saved_tfidf_vectorizer, 'rb'))\n",
    "    \n",
    "    return loaded_tfidf_vectorizer"
   ]
  },
  {
   "cell_type": "code",
   "execution_count": 12,
   "metadata": {},
   "outputs": [],
   "source": [
    "def vectorize_data():\n",
    "    loaded_count_vectorizer = save_count_vectorizer()\n",
    "    loaded_tfidf_vectorizer = save_tfidf_vectorizer()\n",
    "    \n",
    "    x_train_cvec = loaded_count_vectorizer.transform(import_train_test_data()[0]).toarray()\n",
    "    x_test_cvec = loaded_count_vectorizer.transform(import_train_test_data()[1]).toarray()\n",
    "    \n",
    "    x_train_tfidf = loaded_tfidf_vectorizer.transform(import_train_test_data()[0]).toarray()\n",
    "    x_test_tfidf = loaded_tfidf_vectorizer.transform(import_train_test_data()[1]).toarray()\n",
    "    \n",
    "    return (x_train_cvec, x_test_cvec, x_train_tfidf, x_test_tfidf)"
   ]
  },
  {
   "cell_type": "markdown",
   "metadata": {},
   "source": [
    "### 3. Compare models and choose the best one\n",
    "#### Multinomial Naive Bayes turns out to have the highest accuracy on test data"
   ]
  },
  {
   "cell_type": "code",
   "execution_count": 13,
   "metadata": {},
   "outputs": [],
   "source": [
    "def compare_models():\n",
    "    models_list = [RandomForestClassifier(), LinearSVC(), \n",
    "                   MultinomialNB(), LogisticRegression()]\n",
    "    scores_dict_count_vectorizer = {}\n",
    "    scores_dict_tfidf = {}\n",
    "    \n",
    "    for model in models_list:\n",
    "        model.fit(vectorize_data()[0], import_train_test_data()[2])\n",
    "        score_count_vectorizer = model.score(vectorize_data()[1], import_train_test_data()[3])\n",
    "        score_count_tfidf = model.score(vectorize_data()[3], import_train_test_data()[3])\n",
    "        scores_dict_count_vectorizer[model] = round(score_count_vectorizer,2)\n",
    "        scores_dict_tfidf[model] = round(score_count_tfidf,2)\n",
    "      \n",
    "    print ('\\033[1m' + \"The accuracies of models on test set, using count vectorizer are:\", scores_dict_count_vectorizer)\n",
    "    print(\"\\n\")\n",
    "    print ('\\033[1m' + \"The accuracies of models on test set, using TFIDF are:\", scores_dict_tfidf)\n",
    "    print(\"\\n\")\n",
    "    print (colored(\"Multinomial Naive Bayes, using count vectorizer, has the highest accuracy on test data\", 'blue', attrs=['bold']))"
   ]
  },
  {
   "cell_type": "code",
   "execution_count": 14,
   "metadata": {},
   "outputs": [
    {
     "name": "stdout",
     "output_type": "stream",
     "text": [
      "\u001b[1mThe accuracies of models on test set, using count vectorizer are: {RandomForestClassifier(): 0.68, LinearSVC(): 0.72, MultinomialNB(): 0.77, LogisticRegression(): 0.74}\n",
      "\n",
      "\n",
      "\u001b[1mThe accuracies of models on test set, using TFIDF are: {RandomForestClassifier(): 0.55, LinearSVC(): 0.55, MultinomialNB(): 0.74, LogisticRegression(): 0.55}\n",
      "\n",
      "\n",
      "\u001b[1m\u001b[34mMultinomial Naive Bayes, using count vectorizer, has the highest accuracy on test data\u001b[0m\n"
     ]
    }
   ],
   "source": [
    "compare_models()"
   ]
  },
  {
   "cell_type": "markdown",
   "metadata": {},
   "source": [
    "#### 3.1 Save Multinomial Naive Bayes model"
   ]
  },
  {
   "cell_type": "code",
   "execution_count": 15,
   "metadata": {},
   "outputs": [],
   "source": [
    "def save_best_model():\n",
    "    chosen_model = MultinomialNB().fit(vectorize_data()[0], import_train_test_data()[2])\n",
    "    saved_model = 'finalized_model.sav'\n",
    "    pickle.dump(chosen_model, open(saved_model, 'wb'))\n",
    "    loaded_model = pickle.load(open(saved_model, 'rb'))\n",
    "    \n",
    "    return (loaded_model)"
   ]
  },
  {
   "cell_type": "markdown",
   "metadata": {},
   "source": [
    "### 4. Calculate accuracy metrics"
   ]
  },
  {
   "cell_type": "code",
   "execution_count": 19,
   "metadata": {},
   "outputs": [],
   "source": [
    "def accuracy_metrics():\n",
    "    loaded_model = save_best_model()\n",
    "    \n",
    "    y_pred = loaded_model.predict(vectorize_data()[1])\n",
    "    conf_mat = confusion_matrix(import_train_test_data()[3], y_pred)\n",
    "    print (\"\\n\")\n",
    "    print (colored(\"1 stands for non-conspiratorial label and 0 stands for conspiratorial label\", 'blue', attrs=['bold']))\n",
    "    fig, ax = plt.subplots(figsize=(10,10))\n",
    "    sns.heatmap(conf_mat, annot=True, fmt='d')\n",
    "    plt.ylabel('Actual')\n",
    "    plt.xlabel('Predicted')\n",
    "    plt.title(\"Confusion matrix\")\n",
    "    plt.show()\n",
    "\n",
    "    print(metrics.classification_report(import_train_test_data()[3], y_pred))"
   ]
  },
  {
   "cell_type": "code",
   "execution_count": 20,
   "metadata": {},
   "outputs": [],
   "source": [
    "def main():\n",
    "    x_train, x_test, y_train, y_test = import_train_test_data()\n",
    "    text_concatenate = pd.concat([x_train, x_test])\n",
    "    labels_concatenate = pd.concat([y_train, y_test])\n",
    "    data = {'text': text_concatenate, 'labels': labels_concatenate}\n",
    "    plot_df = pd.DataFrame(data)\n",
    "    plt.figure(figsize=(10, 8))\n",
    "    ax = plot_df['labels'].value_counts().plot(kind='bar')\n",
    "    ax.set_title('Distribution of labels in overall data')\n",
    "    plt.show()\n",
    "    \n",
    "    accuracy_metrics()"
   ]
  },
  {
   "cell_type": "code",
   "execution_count": 21,
   "metadata": {},
   "outputs": [
    {
     "data": {
      "image/png": "[encoded data removed]",
      "text/plain": [
       "<Figure size 720x576 with 1 Axes>"
      ]
     },
     "metadata": {},
     "output_type": "display_data"
    },
    {
     "name": "stdout",
     "output_type": "stream",
     "text": [
      "\n",
      "\n",
      "\u001b[1m\u001b[34m1 stands for non-conspiratorial label and 0 stands for conspiratorial label\u001b[0m\n"
     ]
    },
    {
     "data": {
      "image/png": "[encoded data removed]",
      "text/plain": [
       "<Figure size 720x720 with 2 Axes>"
      ]
     },
     "metadata": {},
     "output_type": "display_data"
    },
    {
     "name": "stdout",
     "output_type": "stream",
     "text": [
      "                    precision    recall  f1-score   support\n",
      "\n",
      "Non-conspiratorial       0.76      0.87      0.81        90\n",
      "    conspiratorial       0.80      0.66      0.73        74\n",
      "\n",
      "          accuracy                           0.77       164\n",
      "         macro avg       0.78      0.76      0.77       164\n",
      "      weighted avg       0.78      0.77      0.77       164\n",
      "\n"
     ]
    }
   ],
   "source": [
    "main()"
   ]
  },
  {
   "cell_type": "code",
   "execution_count": null,
   "metadata": {},
   "outputs": [],
   "source": []
  }
 ],
 "metadata": {
  "kernelspec": {
   "display_name": "Python 3",
   "language": "python",
   "name": "python3"
  },
  "language_info": {
   "codemirror_mode": {
    "name": "ipython",
    "version": 3
   },
   "file_extension": ".py",
   "mimetype": "text/x-python",
   "name": "python",
   "nbconvert_exporter": "python",
   "pygments_lexer": "ipython3",
   "version": "3.7.6"
  }
 },
 "nbformat": 4,
 "nbformat_minor": 4
}
